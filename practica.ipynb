{
  "nbformat": 4,
  "nbformat_minor": 0,
  "metadata": {
    "colab": {
      "provenance": []
    },
    "kernelspec": {
      "name": "python3",
      "display_name": "Python 3"
    },
    "language_info": {
      "name": "python"
    }
  },
  "cells": [
    {
      "cell_type": "markdown",
      "source": [
        "# ***Programación***\n",
        "###  *Validación de Paréntesis Bien Formados en una Cadena*\n",
        ".\n",
        ".\n",
        ".\n",
        "\n",
        "En esta Práctica 1 tratara en crear un programa en Python 3 que pueda determinar si una cadena de entrada formada por los caracteres '(' , ')' contiene una secuencia de paréntesis bien formados.\n",
        "\n",
        "Para lograr esto, se utilizará una estructura de datos, que nos permitirá verificar si los paréntesis están correctamente escritos en la cadena. Si la secuencia de paréntesis es correcta, el programa devolverá True; de lo contrario, devolverá False junto con un mensaje explicativo que indique por qué se rechazó la cadena.\n",
        "\n",
        "La solución se enfocará en ser clara, concisa y en manejar diferentes escenarios para garantizar su eficiencia.\n"
      ],
      "metadata": {
        "id": "BFzt1PQq1-xy"
      }
    },
    {
      "cell_type": "code",
      "source": [
        "S=\"(())\" #aqui el usuario ingresa su cadena de parentesis\n",
        "\n",
        "def cadena_correcta_de_parentesis(S):\n",
        "    \"\"\"\n",
        "    Esta funcion comprueba si una cadena S es una secuencia de parentesis bien formada,\n",
        "considerando solo '(' y ')', y rechaza cualquier cadena que contenga otros caracteres.\n",
        "Devuelve True si la secuencia esta bien formada y solo contiene parentesis, False en caso contrario.\n",
        "    \"\"\"\n",
        "    balance = 0   #empezamos una variable balance=0\n",
        "    for char in S:  #iterar cada elemento de la secuencia S\n",
        "        if char == '(':  # si char es igual al parentesis que abre\n",
        "            balance += 1   #se le suma 1 a balance\n",
        "        elif char == ')':  #si char es igual al parentsis que cierra\n",
        "            balance -= 1  # se le resta 1 a balance\n",
        "            if balance < 0: # si balance es menor a 0\n",
        "                print(\"Su cadena esta mal redactada (el orden de los parentesis esta mal o no estan en la misma cantidad)\")\n",
        "                return False  # regresa falso\n",
        "\n",
        "        else:\n",
        "            print(\"Hay un caracter no permitido\")\n",
        "            return False  # Se encontro un caracter que no es \"(\" ni \")\"\n",
        "\n",
        "    print(\"Su cadena esta bien definida\")\n",
        "    return balance == 0  # regresa true si balance es cero, osea que cada parentsis que se abrio tiene su cierre\n",
        "\n",
        "\n",
        "print(cadena_correcta_de_parentesis(S))"
      ],
      "metadata": {
        "id": "VQeKipuBjY72"
      },
      "execution_count": null,
      "outputs": []
    }
  ]
}